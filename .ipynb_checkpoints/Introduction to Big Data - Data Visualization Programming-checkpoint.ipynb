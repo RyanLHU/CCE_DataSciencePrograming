{
 "cells": [
  {
   "cell_type": "code",
   "execution_count": null,
   "metadata": {
    "scrolled": true
   },
   "outputs": [],
   "source": [
    "import numpy as np \n",
    "import pandas as pd\n",
    "import matplotlib.pyplot as plt \n",
    "x = np.linspace(0, 1, 201)\n",
    "y = np.sin((2*np.pi*x)**2) \n",
    "plt.plot(x, y, 'red')\n",
    "plt.show()"
   ]
  },
  {
   "cell_type": "code",
   "execution_count": null,
   "metadata": {},
   "outputs": [],
   "source": [
    "x = 10*np.random.rand(200,1) \n",
    "y = (0.2 + 0.8*x) *\\\n",
    "    np.sin(2*np.pi*x) + \\\n",
    "    np.random.randn(200,1)\n",
    "plt.scatter(x,y) \n",
    "plt.show()\n"
   ]
  },
  {
   "cell_type": "code",
   "execution_count": null,
   "metadata": {},
   "outputs": [],
   "source": [
    "x = 10*np.random.rand(200,1)\n",
    "y = (0.2 + 0.8*x) * \\\n",
    "    np.sin(2*np.pi*x) + \\\n",
    "    np.random.randn(200,1)\n",
    "plt.hist(y, bins=20) \n",
    "plt.show()"
   ]
  },
  {
   "cell_type": "code",
   "execution_count": null,
   "metadata": {},
   "outputs": [],
   "source": [
    "df=pd.read_csv('https://www7.ncdc.noaa.gov/CDO/GSOD_COMMADEL.txt')\n",
    "t=df[' YEARMODA']\n",
    "temp=df['   TEMP']\n",
    "dewp=df['   DEWP']\n",
    "wdsp=df['   WDSP']\n",
    "\n",
    "plt.plot(t, temp, 'red')\n",
    "plt.plot(t, dewp, 'blue')\n",
    "plt.plot(t, wdsp, 'green')\n",
    "\n",
    "plt.xlabel('Date')\n",
    "plt.title('Temperature, Dew Point, & WDSP')\n",
    "plt.show()"
   ]
  },
  {
   "cell_type": "code",
   "execution_count": null,
   "metadata": {},
   "outputs": [],
   "source": [
    "plt.axes([0.05,0.05,0.425,0.9])\n",
    "plt.plot(t, temp, 'red')\n",
    "plt.plot(t, dewp, 'blue')\n",
    "plt.title('Temperature & Dew Point')\n",
    "\n",
    "plt.axes([0.525,0.05,0.425,0.9])\n",
    "plt.plot(t, wdsp, 'green')\n",
    "plt.xlabel('Date')\n",
    "plt.title('WDSP')\n",
    "plt.show()"
   ]
  },
  {
   "cell_type": "code",
   "execution_count": null,
   "metadata": {},
   "outputs": [],
   "source": [
    "plt.subplot(2, 1, 1)\n",
    "plt.plot(t, temp, 'red')\n",
    "plt.plot(t, dewp, 'blue')\n",
    "plt.title('Temperature & Dew Point')\n",
    "\n",
    "plt.subplot(2, 1, 2)\n",
    "plt.plot(t, wdsp, 'green')\n",
    "plt.xlabel('Date')\n",
    "plt.title('WDSP')\n",
    "plt.tight_layout()\n",
    "plt.show()"
   ]
  },
  {
   "cell_type": "code",
   "execution_count": null,
   "metadata": {
    "scrolled": true
   },
   "outputs": [],
   "source": [
    "import requests, zipfile, io\n",
    "\n",
    "# get a ZIP file from https://data.worldbank.org/indicator/NY.GDP.MKTP.CD\n",
    "r = requests.get('http://api.worldbank.org/v2/en/indicator/NY.GDP.MKTP.CD?downloadformat=csv', stream=True)\n",
    "archive = zipfile.ZipFile(io.BytesIO(r.content))\n",
    "# open the csv from the downlaoded ZIP file\n",
    "file=archive.open('API_NY.GDP.MKTP.CD_DS2_en_csv_v2_10203569.csv')\n",
    "\n",
    "df=pd.read_csv(file,skiprows=4,index_col=1)\n",
    "usa=df.loc['USA'][3:]\n",
    "chn=df.loc['CHN'][3:]\n",
    "ind=df.loc['IND'][3:]\n",
    "aus=df.loc['AUS'][3:]\n",
    "year=usa.index\n",
    "\n",
    "# this is used to setup the ticks\n",
    "plt.xticks(np.arange(2, 61, step=5)) \n",
    "\n",
    "plt.plot(year, usa, 'blue')\n",
    "plt.plot(year, chn, 'red')\n",
    "plt.plot(year, ind, 'yellow')\n",
    "plt.plot(year, aus, 'green')\n",
    "plt.xlabel('Year')\n",
    "plt.ylabel('10 Trillions of Dollars')\n",
    "plt.title('US and CN Gross Domestic Product')\n",
    "plt.show()"
   ]
  },
  {
   "cell_type": "code",
   "execution_count": null,
   "metadata": {},
   "outputs": [],
   "source": [
    "x=np.linspace(-1, 1, num=100)\n",
    "x=np.append(x, np.linspace(1, -1, num=100))\n",
    "y=np.sqrt(1-x**2)\n",
    "y[100:]=-y[100:]\n",
    "plt.subplot(2, 1, 1)\n",
    "plt.plot(x, y, 'red')\n",
    "plt.title('default axis')\n",
    "plt.subplot(2, 1, 2)\n",
    "plt.plot(x, y, 'red')\n",
    "plt.axis('equal')\n",
    "plt.title('axis equal')\n",
    "plt.tight_layout()\n",
    "plt.show()"
   ]
  },
  {
   "cell_type": "code",
   "execution_count": null,
   "metadata": {},
   "outputs": [],
   "source": [
    "df=pd.read_csv('https://raw.githubusercontent.com/uiuc-cse/data-fa14/gh-pages/data/iris.csv')\n",
    "\n",
    "setosa_len = df[df.species==\"setosa\"]['sepal_length']\n",
    "setosa_wid = df[df.species==\"setosa\"]['sepal_width']\n",
    "\n",
    "versicolor_len = df[df.species==\"versicolor\"]['sepal_length']\n",
    "versicolor_wid = df[df.species==\"versicolor\"]['sepal_width']\n",
    "\n",
    "virginica_len = df[df.species==\"virginica\"]['sepal_length']\n",
    "virginica_wid = df[df.species==\"virginica\"]['sepal_width']\n",
    "\n",
    "plt.scatter(setosa_len, setosa_wid, marker='o', color='red', label='setosa')\n",
    "plt.scatter(versicolor_len, versicolor_wid, marker='o', color='green', label='versicolor')\n",
    "plt.scatter(virginica_len, virginica_wid, marker='o', color='blue', label='virginica')\n",
    "\n",
    "plt.legend(loc='upper right')\n",
    "plt.title('Iris data')\n",
    "plt.xlabel('sepal length (cm)')\n",
    "plt.ylabel('sepal width (cm)')\n",
    "\n",
    "plt.annotate('setosa', xy=(5.0, 3.5), xytext=(4.25, 4.0), arrowprops={'color':'red'})\n",
    "plt.annotate('virginica', xy=(7.25, 3.5), xytext=(6.5, 4.0), arrowprops={'color':'blue'})\n",
    "plt.annotate('versicolor', xy=(5.0, 2.0), xytext=(5.5, 1.75), arrowprops={'color':'green'})\n",
    "\n",
    "plt.show()"
   ]
  },
  {
   "cell_type": "code",
   "execution_count": null,
   "metadata": {},
   "outputs": [],
   "source": [
    "import matplotlib.pyplot as plt\n",
    "plt.style.use('fivethirtyeight')\n",
    "\n",
    "df=pd.read_csv('https://raw.githubusercontent.com/uiuc-cse/data-fa14/gh-pages/data/iris.csv')\n",
    "\n",
    "setosa_len = df[df.species==\"setosa\"]['sepal_length']\n",
    "setosa_wid = df[df.species==\"setosa\"]['sepal_width']\n",
    "\n",
    "versicolor_len = df[df.species==\"versicolor\"]['sepal_length']\n",
    "versicolor_wid = df[df.species==\"versicolor\"]['sepal_width']\n",
    "\n",
    "virginica_len = df[df.species==\"virginica\"]['sepal_length']\n",
    "virginica_wid = df[df.species==\"virginica\"]['sepal_width']\n",
    "\n",
    "plt.scatter(setosa_len, setosa_wid, marker='o', color='red', label='setosa')\n",
    "plt.scatter(versicolor_len, versicolor_wid, marker='o', color='green', label='versicolor')\n",
    "plt.scatter(virginica_len, virginica_wid, marker='o', color='blue', label='virginica')\n",
    "\n",
    "plt.legend(loc='upper right')\n",
    "plt.title('Iris data')\n",
    "plt.xlabel('sepal length (cm)')\n",
    "plt.ylabel('sepal width (cm)')\n",
    "\n",
    "plt.annotate('setosa', xy=(5.0, 3.5), xytext=(4.25, 4.0), arrowprops={'color':'red'})\n",
    "plt.annotate('virginica', xy=(7.25, 3.5), xytext=(6.5, 4.0), arrowprops={'color':'blue'})\n",
    "plt.annotate('versicolor', xy=(5.0, 2.0), xytext=(5.5, 1.75), arrowprops={'color':'green'})\n",
    "\n",
    "plt.show()"
   ]
  },
  {
   "cell_type": "code",
   "execution_count": null,
   "metadata": {},
   "outputs": [],
   "source": [
    "u = np.linspace(-2, 2, 300)\n",
    "v = np.linspace(-1, 1, 500)\n",
    "X,Y = np.meshgrid(u, v)\n",
    "Z = X**2/25 + Y**2/4\n",
    "\n",
    "#print('X:\\n',X)\n",
    "#print('Y:\\n',Y)\n",
    "#print('Z:\\n', Z)\n",
    "\n",
    "# https://matplotlib.org/examples/color/colormaps_reference.html\n",
    "#plt.set_cmap('gray')\n",
    "plt.set_cmap('GnBu')\n",
    "plt.pcolor(Z)\n",
    "plt.colorbar()\n",
    "plt.show()"
   ]
  },
  {
   "cell_type": "code",
   "execution_count": null,
   "metadata": {},
   "outputs": [],
   "source": [
    "u = np.linspace(-2, 2, 30)\n",
    "v = np.linspace(-1, 1, 50)\n",
    "X,Y = np.meshgrid(u, v)\n",
    "Z = X**2/25 + Y**2/4\n",
    "\n",
    "plt.set_cmap('winter')\n",
    "plt.contourf(X, Y, Z,30)\n",
    "plt.colorbar()\n",
    "plt.show()"
   ]
  },
  {
   "cell_type": "code",
   "execution_count": null,
   "metadata": {},
   "outputs": [],
   "source": [
    "df=pd.read_csv('https://raw.githubusercontent.com/uiuc-cse/data-fa14/gh-pages/data/iris.csv')\n",
    "\n",
    "setosa_wid = df[df.species==\"setosa\"]['sepal_width']\n",
    "\n",
    "counts, bins, patches = plt.hist(setosa_wid, bins=25)\n",
    "plt.show()"
   ]
  },
  {
   "cell_type": "code",
   "execution_count": null,
   "metadata": {},
   "outputs": [],
   "source": [
    "df=pd.read_csv('https://raw.githubusercontent.com/uiuc-cse/data-fa14/gh-pages/data/iris.csv')\n",
    "\n",
    "setosa_len = df[df.species==\"setosa\"]['sepal_length']\n",
    "setosa_wid = df[df.species==\"setosa\"]['sepal_width']\n",
    "\n",
    "plt.hist2d(setosa_len, setosa_wid, bins=(10, 10))\n",
    "plt.set_cmap('hot')\n",
    "plt.colorbar()\n",
    "plt.show()"
   ]
  },
  {
   "cell_type": "code",
   "execution_count": null,
   "metadata": {},
   "outputs": [],
   "source": [
    "plt.hexbin(setosa_len, setosa_wid, gridsize=(15, 10))\n",
    "plt.show()"
   ]
  },
  {
   "cell_type": "code",
   "execution_count": null,
   "metadata": {},
   "outputs": [],
   "source": [
    "from urllib.request import urlopen\n",
    "file = urlopen('https://upload.wikimedia.org/wikipedia/commons/4/45/A_Sunflower.jpg')\n",
    "# python -m pip install pillow in order to read PNG file\n",
    "img = plt.imread(file,0)\n",
    "print(img.shape)\n",
    "\n",
    "plt.imshow(img)\n",
    "plt.axis('off')\n",
    "plt.show()\n",
    "\n"
   ]
  },
  {
   "cell_type": "code",
   "execution_count": null,
   "metadata": {},
   "outputs": [],
   "source": [
    "collapsed = img.mean(axis=2)\n",
    "plt.set_cmap('gray')\n",
    "plt.imshow(collapsed, cmap='gray')\n",
    "plt.axis('off')\n",
    "plt.show()"
   ]
  },
  {
   "cell_type": "code",
   "execution_count": null,
   "metadata": {},
   "outputs": [],
   "source": [
    "uneven = collapsed[::4,::2]\n",
    "plt.imshow(uneven)\n",
    "plt.axis('off')\n",
    "plt.show()"
   ]
  },
  {
   "cell_type": "code",
   "execution_count": null,
   "metadata": {},
   "outputs": [],
   "source": [
    "plt.imshow(uneven, aspect=2.0)\n",
    "plt.axis('off')\n",
    "plt.show()"
   ]
  },
  {
   "cell_type": "code",
   "execution_count": null,
   "metadata": {},
   "outputs": [],
   "source": [
    "plt.imshow(uneven, cmap='gray', extent=(0,1024,0,768))\n",
    "plt.axis('off')\n",
    "plt.show()"
   ]
  },
  {
   "cell_type": "code",
   "execution_count": null,
   "metadata": {},
   "outputs": [],
   "source": [
    "import pandas as pd\n",
    "import matplotlib.pyplot as plt\n",
    "import seaborn as sns\n",
    "\n",
    "# https://github.com/mwaskom/seaborn-data/blob/master/tips.csv\n",
    "tips =sns.load_dataset('tips')\n",
    "\n",
    "sns.lmplot(x= 'total_bill', y='tip', data=tips)\n",
    "plt.show()           "
   ]
  },
  {
   "cell_type": "code",
   "execution_count": null,
   "metadata": {},
   "outputs": [],
   "source": [
    "import pandas as pd\n",
    "import matplotlib.pyplot as plt\n",
    "import seaborn as sns\n",
    "\n",
    "# https://github.com/mwaskom/seaborn-data/blob/master/tips.csv\n",
    "tips =sns.load_dataset('tips')\n",
    "\n",
    "print(tips.columns)\n",
    "\n",
    "sns.lmplot(x= 'total_bill', y='tip', data=tips, hue='sex', palette='Set1')\n",
    "plt.show()           "
   ]
  },
  {
   "cell_type": "code",
   "execution_count": null,
   "metadata": {},
   "outputs": [],
   "source": [
    "sns.lmplot(x='total_bill', y='tip', data=tips, col='sex')\n",
    "plt.show()"
   ]
  },
  {
   "cell_type": "code",
   "execution_count": null,
   "metadata": {},
   "outputs": [],
   "source": [
    "sns.residplot(x='total_bill',y='tip',data=tips,color='indianred')\n",
    "plt.show()"
   ]
  },
  {
   "cell_type": "code",
   "execution_count": null,
   "metadata": {},
   "outputs": [],
   "source": []
  }
 ],
 "metadata": {
  "kernelspec": {
   "display_name": "Python 3",
   "language": "python",
   "name": "python3"
  },
  "language_info": {
   "codemirror_mode": {
    "name": "ipython",
    "version": 3
   },
   "file_extension": ".py",
   "mimetype": "text/x-python",
   "name": "python",
   "nbconvert_exporter": "python",
   "pygments_lexer": "ipython3",
   "version": "3.6.5"
  }
 },
 "nbformat": 4,
 "nbformat_minor": 2
}
